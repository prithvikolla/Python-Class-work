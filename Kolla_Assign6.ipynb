{
  "nbformat": 4,
  "nbformat_minor": 0,
  "metadata": {
    "colab": {
      "name": "Kolla_Assign6.ipynb",
      "provenance": [],
      "collapsed_sections": []
    },
    "kernelspec": {
      "name": "python3",
      "display_name": "Python 3"
    }
  },
  "cells": [
    {
      "cell_type": "code",
      "metadata": {
        "id": "ZRO0mBL9W6HP",
        "colab_type": "code",
        "colab": {}
      },
      "source": [
        "import numpy as np\n",
        "from datascience import *\n",
        "\n",
        "# These lines do some fancy plotting magic.\n",
        "import matplotlib\n",
        "%matplotlib inline\n",
        "import matplotlib.pyplot as plt"
      ],
      "execution_count": 0,
      "outputs": []
    },
    {
      "cell_type": "markdown",
      "metadata": {
        "id": "-YV2BR8kYAgk",
        "colab_type": "text"
      },
      "source": [
        "\n",
        "1. The Bootstrap and The Normal Curve\n",
        "In this exercise, we will explore a dataset that includes the safety inspection scores for restaurants in the city of Austin, Texas. We will be interested in determining the average restaurant score for the city from a random sample of the scores; the average restaurant score is out of 100. We'll compare two methods for computing a confidence interval for that quantity: the bootstrap resampling method, and an approximation based on the Central Limit Theorem."
      ]
    },
    {
      "cell_type": "code",
      "metadata": {
        "id": "FSAtplF0X-bz",
        "colab_type": "code",
        "colab": {
          "base_uri": "https://localhost:8080/",
          "height": 388
        },
        "outputId": "6a89cf13-3416-439e-cd46-6f98d22216b9"
      },
      "source": [
        "# Just run this cell.\n",
        "#Load data into a pandas dataframe\n",
        "dirpath = \"https://raw.githubusercontent.com/data-8/materials-su19/master/materials/su19/hw/hw10/\"\n",
        "pop_restaurants = Table.read_table(dirpath+'restaurant_inspection_scores.csv').drop('Facility ID','Process Description')\n",
        "pop_restaurants"
      ],
      "execution_count": 2,
      "outputs": [
        {
          "output_type": "execute_result",
          "data": {
            "text/html": [
              "<table border=\"1\" class=\"dataframe\">\n",
              "    <thead>\n",
              "        <tr>\n",
              "            <th>Restaurant Name</th> <th>Zip Code</th> <th>Inspection Date</th> <th>Score</th> <th>Address</th>\n",
              "        </tr>\n",
              "    </thead>\n",
              "    <tbody>\n",
              "        <tr>\n",
              "            <td>6M Grocery     </td> <td>78652   </td> <td>01/17/2014     </td> <td>90   </td> <td>805 W FM 1626 RD\n",
              "AUSTIN, TX 78652\n",
              "     </td>\n",
              "        </tr>\n",
              "        <tr>\n",
              "            <td>6M Grocery     </td> <td>78652   </td> <td>04/27/2015     </td> <td>93   </td> <td>805 W FM 1626 RD\n",
              "AUSTIN, TX 78652\n",
              "     </td>\n",
              "        </tr>\n",
              "        <tr>\n",
              "            <td>6M Grocery     </td> <td>78652   </td> <td>05/02/2016     </td> <td>88   </td> <td>805 W FM 1626 RD\n",
              "AUSTIN, TX 78652\n",
              "     </td>\n",
              "        </tr>\n",
              "        <tr>\n",
              "            <td>6M Grocery     </td> <td>78652   </td> <td>07/25/2014     </td> <td>100  </td> <td>805 W FM 1626 RD\n",
              "AUSTIN, TX 78652\n",
              "     </td>\n",
              "        </tr>\n",
              "        <tr>\n",
              "            <td>6M Grocery     </td> <td>78652   </td> <td>10/21/2015     </td> <td>87   </td> <td>805 W FM 1626 RD\n",
              "AUSTIN, TX 78652\n",
              "     </td>\n",
              "        </tr>\n",
              "        <tr>\n",
              "            <td>6M Grocery     </td> <td>78652   </td> <td>12/15/2014     </td> <td>93   </td> <td>805 W FM 1626 RD\n",
              "AUSTIN, TX 78652\n",
              "     </td>\n",
              "        </tr>\n",
              "        <tr>\n",
              "            <td>7 Eleven #36575</td> <td>78660   </td> <td>01/25/2016     </td> <td>92   </td> <td>15829 N IH 35 SVRD NB\n",
              "AUSTIN, TX 78660\n",
              "</td>\n",
              "        </tr>\n",
              "        <tr>\n",
              "            <td>7 Eleven #36575</td> <td>78660   </td> <td>03/05/2015     </td> <td>86   </td> <td>15829 N IH 35 SVRD NB\n",
              "AUSTIN, TX 78660\n",
              "</td>\n",
              "        </tr>\n",
              "        <tr>\n",
              "            <td>7 Eleven #36575</td> <td>78660   </td> <td>03/14/2014     </td> <td>93   </td> <td>15829 N IH 35 SVRD NB\n",
              "AUSTIN, TX 78660\n",
              "</td>\n",
              "        </tr>\n",
              "        <tr>\n",
              "            <td>7 Eleven #36575</td> <td>78660   </td> <td>07/27/2015     </td> <td>97   </td> <td>15829 N IH 35 SVRD NB\n",
              "AUSTIN, TX 78660\n",
              "</td>\n",
              "        </tr>\n",
              "    </tbody>\n",
              "</table>\n",
              "<p>... (24357 rows omitted)</p>"
            ],
            "text/plain": [
              "Restaurant Name | Zip Code | Inspection Date | Score | Address\n",
              "6M Grocery      | 78652    | 01/17/2014      | 90    | 805 W FM 1626 RD\n",
              "AUSTIN, TX 78652\n",
              "6M Grocery      | 78652    | 04/27/2015      | 93    | 805 W FM 1626 RD\n",
              "AUSTIN, TX 78652\n",
              "6M Grocery      | 78652    | 05/02/2016      | 88    | 805 W FM 1626 RD\n",
              "AUSTIN, TX 78652\n",
              "6M Grocery      | 78652    | 07/25/2014      | 100   | 805 W FM 1626 RD\n",
              "AUSTIN, TX 78652\n",
              "6M Grocery      | 78652    | 10/21/2015      | 87    | 805 W FM 1626 RD\n",
              "AUSTIN, TX 78652\n",
              "6M Grocery      | 78652    | 12/15/2014      | 93    | 805 W FM 1626 RD\n",
              "AUSTIN, TX 78652\n",
              "7 Eleven #36575 | 78660    | 01/25/2016      | 92    | 15829 N IH 35 SVRD NB\n",
              "AUSTIN, TX 78660\n",
              "7 Eleven #36575 | 78660    | 03/05/2015      | 86    | 15829 N IH 35 SVRD NB\n",
              "AUSTIN, TX 78660\n",
              "7 Eleven #36575 | 78660    | 03/14/2014      | 93    | 15829 N IH 35 SVRD NB\n",
              "AUSTIN, TX 78660\n",
              "7 Eleven #36575 | 78660    | 07/27/2015      | 97    | 15829 N IH 35 SVRD NB\n",
              "AUSTIN, TX 78660\n",
              "... (24357 rows omitted)"
            ]
          },
          "metadata": {
            "tags": []
          },
          "execution_count": 2
        }
      ]
    },
    {
      "cell_type": "code",
      "metadata": {
        "id": "qAknkfgpYMXX",
        "colab_type": "code",
        "colab": {
          "base_uri": "https://localhost:8080/",
          "height": 284
        },
        "outputId": "8f2b819c-6dcd-43fe-fb3a-9aaba83b1bd6"
      },
      "source": [
        "\n",
        "pop_restaurants.hist('Score')"
      ],
      "execution_count": 3,
      "outputs": [
        {
          "output_type": "display_data",
          "data": {
            "image/png": "[encoded data removed]",
            "text/plain": [
              "<Figure size 432x288 with 1 Axes>"
            ]
          },
          "metadata": {
            "tags": []
          }
        }
      ]
    },
    {
      "cell_type": "code",
      "metadata": {
        "id": "SvBGobUVYQtY",
        "colab_type": "code",
        "colab": {
          "base_uri": "https://localhost:8080/",
          "height": 34
        },
        "outputId": "2be2a771-6f07-4d94-b0f4-41d53d1ecdb7"
      },
      "source": [
        "pop_mean = np.mean(pop_restaurants.column('Score'))\n",
        "pop_mean"
      ],
      "execution_count": 4,
      "outputs": [
        {
          "output_type": "execute_result",
          "data": {
            "text/plain": [
              "91.40706693478886"
            ]
          },
          "metadata": {
            "tags": []
          },
          "execution_count": 4
        }
      ]
    },
    {
      "cell_type": "code",
      "metadata": {
        "id": "woVTy55qYUPK",
        "colab_type": "code",
        "colab": {
          "base_uri": "https://localhost:8080/",
          "height": 388
        },
        "outputId": "13211b5e-077b-49d9-ae1c-848692090b85"
      },
      "source": [
        "restaurant_sample = pop_restaurants.sample(100, with_replacement=False)\n",
        "restaurant_sample"
      ],
      "execution_count": 5,
      "outputs": [
        {
          "output_type": "execute_result",
          "data": {
            "text/html": [
              "<table border=\"1\" class=\"dataframe\">\n",
              "    <thead>\n",
              "        <tr>\n",
              "            <th>Restaurant Name</th> <th>Zip Code</th> <th>Inspection Date</th> <th>Score</th> <th>Address</th>\n",
              "        </tr>\n",
              "    </thead>\n",
              "    <tbody>\n",
              "        <tr>\n",
              "            <td>Stubb's                 </td> <td>78701   </td> <td>11/09/2015     </td> <td>93   </td> <td>801 RED RIVER ST\n",
              "AUSTIN, TX 78701\n",
              "(30.268687, -97.736382)   </td>\n",
              "        </tr>\n",
              "        <tr>\n",
              "            <td>The Volstead Lounge     </td> <td>78702   </td> <td>06/25/2015     </td> <td>90   </td> <td>1500 E 6TH ST\n",
              "AUSTIN, TX 78702\n",
              "(30.263303, -97.727285)      </td>\n",
              "        </tr>\n",
              "        <tr>\n",
              "            <td>Simon's Cafe @ ACC      </td> <td>78736   </td> <td>04/24/2014     </td> <td>85   </td> <td>7748 W US 290 HWY\n",
              "AUSTIN, TX 78736\n",
              "(30.229242, -97.882967)  </td>\n",
              "        </tr>\n",
              "        <tr>\n",
              "            <td>C-Hunt's Ice House      </td> <td>78758   </td> <td>10/12/2016     </td> <td>97   </td> <td>9611 MC NEIL RD\n",
              "AUSTIN, TX 78758\n",
              "(30.378013, -97.723962)    </td>\n",
              "        </tr>\n",
              "        <tr>\n",
              "            <td>CJC Snack Bar           </td> <td>78701   </td> <td>08/21/2014     </td> <td>95   </td> <td>509 W 11TH ST\n",
              "AUSTIN, TX 78701\n",
              "(30.274242, -97.746495)      </td>\n",
              "        </tr>\n",
              "        <tr>\n",
              "            <td>Con'olio Oils & Vinegars</td> <td>78759   </td> <td>04/07/2016     </td> <td>99   </td> <td>10000 RESEARCH BLVD SB Unit 130\n",
              "AUSTIN, TX 78759\n",
              "(30.392 ...</td>\n",
              "        </tr>\n",
              "        <tr>\n",
              "            <td>China House Restaurant  </td> <td>78758   </td> <td>05/22/2014     </td> <td>77   </td> <td>9505 BURNET RD\n",
              "AUSTIN, TX 78758\n",
              "(30.378754, -97.725178)     </td>\n",
              "        </tr>\n",
              "        <tr>\n",
              "            <td>Polvo's Restaurant & Bar</td> <td>78704   </td> <td>05/01/2015     </td> <td>70   </td> <td>2004 S 1ST ST\n",
              "AUSTIN, TX 78704\n",
              "(30.2451, -97.757298)        </td>\n",
              "        </tr>\n",
              "        <tr>\n",
              "            <td>Baranoff Elem School    </td> <td>78748   </td> <td>12/19/2013     </td> <td>97   </td> <td>12009 BUCKINGHAM GATE RD\n",
              "AUSTIN, TX 78748\n",
              "(30.153176, -9 ...</td>\n",
              "        </tr>\n",
              "        <tr>\n",
              "            <td>Boulevards Grill & Bar  </td> <td>78731   </td> <td>01/12/2016     </td> <td>97   </td> <td>3616 FAR WEST BLVD\n",
              "AUSTIN, TX 78731\n",
              "(30.354673, -97.755667) </td>\n",
              "        </tr>\n",
              "    </tbody>\n",
              "</table>\n",
              "<p>... (90 rows omitted)</p>"
            ],
            "text/plain": [
              "Restaurant Name          | Zip Code | Inspection Date | Score | Address\n",
              "Stubb's                  | 78701    | 11/09/2015      | 93    | 801 RED RIVER ST\n",
              "AUSTIN, TX 78701\n",
              "(30.268687, -97.736382)\n",
              "The Volstead Lounge      | 78702    | 06/25/2015      | 90    | 1500 E 6TH ST\n",
              "AUSTIN, TX 78702\n",
              "(30.263303, -97.727285)\n",
              "Simon's Cafe @ ACC       | 78736    | 04/24/2014      | 85    | 7748 W US 290 HWY\n",
              "AUSTIN, TX 78736\n",
              "(30.229242, -97.882967)\n",
              "C-Hunt's Ice House       | 78758    | 10/12/2016      | 97    | 9611 MC NEIL RD\n",
              "AUSTIN, TX 78758\n",
              "(30.378013, -97.723962)\n",
              "CJC Snack Bar            | 78701    | 08/21/2014      | 95    | 509 W 11TH ST\n",
              "AUSTIN, TX 78701\n",
              "(30.274242, -97.746495)\n",
              "Con'olio Oils & Vinegars | 78759    | 04/07/2016      | 99    | 10000 RESEARCH BLVD SB Unit 130\n",
              "AUSTIN, TX 78759\n",
              "(30.392 ...\n",
              "China House Restaurant   | 78758    | 05/22/2014      | 77    | 9505 BURNET RD\n",
              "AUSTIN, TX 78758\n",
              "(30.378754, -97.725178)\n",
              "Polvo's Restaurant & Bar | 78704    | 05/01/2015      | 70    | 2004 S 1ST ST\n",
              "AUSTIN, TX 78704\n",
              "(30.2451, -97.757298)\n",
              "Baranoff Elem School     | 78748    | 12/19/2013      | 97    | 12009 BUCKINGHAM GATE RD\n",
              "AUSTIN, TX 78748\n",
              "(30.153176, -9 ...\n",
              "Boulevards Grill & Bar   | 78731    | 01/12/2016      | 97    | 3616 FAR WEST BLVD\n",
              "AUSTIN, TX 78731\n",
              "(30.354673, -97.755667)\n",
              "... (90 rows omitted)"
            ]
          },
          "metadata": {
            "tags": []
          },
          "execution_count": 5
        }
      ]
    },
    {
      "cell_type": "code",
      "metadata": {
        "id": "u43uY5tnYXOw",
        "colab_type": "code",
        "colab": {
          "base_uri": "https://localhost:8080/",
          "height": 285
        },
        "outputId": "c041cc06-a4cd-42d6-91fd-2c984bbb7905"
      },
      "source": [
        "restaurant_sample.hist('Score')"
      ],
      "execution_count": 6,
      "outputs": [
        {
          "output_type": "display_data",
          "data": {
            "image/png": "[encoded data removed]",
            "text/plain": [
              "<Figure size 432x288 with 1 Axes>"
            ]
          },
          "metadata": {
            "tags": []
          }
        }
      ]
    },
    {
      "cell_type": "code",
      "metadata": {
        "id": "Hjv5Q5zgYa1q",
        "colab_type": "code",
        "colab": {
          "base_uri": "https://localhost:8080/",
          "height": 34
        },
        "outputId": "5c140d10-6a9b-46be-edc0-6da7148270ef"
      },
      "source": [
        "sample_mean = np.mean(restaurant_sample.column('Score'))\n",
        "sample_mean"
      ],
      "execution_count": 7,
      "outputs": [
        {
          "output_type": "execute_result",
          "data": {
            "text/plain": [
              "90.99"
            ]
          },
          "metadata": {
            "tags": []
          },
          "execution_count": 7
        }
      ]
    },
    {
      "cell_type": "markdown",
      "metadata": {
        "id": "inABYNaiYhXd",
        "colab_type": "text"
      },
      "source": [
        "Question 1\n",
        "Complete the function one_resampled_mean below. It should take in an original table data, with a column Score, and return the mean score of one resampling from data.\n",
        "\n",
        "Remember to call your function and check the output before moving on to autograder tests."
      ]
    },
    {
      "cell_type": "code",
      "metadata": {
        "id": "d1IVDJnEYkKe",
        "colab_type": "code",
        "colab": {
          "base_uri": "https://localhost:8080/",
          "height": 34
        },
        "outputId": "5b3ff72e-a12e-469f-c3ab-c5fe20a7ec52"
      },
      "source": [
        "def one_resampled_mean(data):\n",
        "    resampled_data = data.sample()\n",
        "    return np.mean(resampled_data.column('Score'))\n",
        "# Visualize one call of your function:\n",
        "this_mean = one_resampled_mean(pop_restaurants)\n",
        "print(this_mean)"
      ],
      "execution_count": 8,
      "outputs": [
        {
          "output_type": "stream",
          "text": [
            "91.36356547790044\n"
          ],
          "name": "stdout"
        }
      ]
    },
    {
      "cell_type": "markdown",
      "metadata": {
        "id": "xDd55RYjZycp",
        "colab_type": "text"
      },
      "source": [
        "Question 2\n",
        "Complete the function bootstrap_scores below. It should take no arguments. It should simulate drawing 5000 resamples from restaurant_sample and compute the mean restaurant score in each resample. It should return an array of those 5000 resample means."
      ]
    },
    {
      "cell_type": "code",
      "metadata": {
        "id": "I12NZKVYYsrU",
        "colab_type": "code",
        "colab": {
          "base_uri": "https://localhost:8080/",
          "height": 34
        },
        "outputId": "a9d1973c-1d5f-4165-d312-806034522d56"
      },
      "source": [
        "def bootstrap_scores():\n",
        "    resampled_means = make_array()\n",
        "    for i in range(5000):\n",
        "        resampled_mean = one_resampled_mean(restaurant_sample)\n",
        "        resampled_means = np.append(resampled_means,resampled_mean)\n",
        "    return resampled_means\n",
        "\n",
        "resampled_means = bootstrap_scores()\n",
        "resampled_means"
      ],
      "execution_count": 18,
      "outputs": [
        {
          "output_type": "execute_result",
          "data": {
            "text/plain": [
              "array([90.51, 89.65, 90.39, ..., 90.91, 90.57, 91.63])"
            ]
          },
          "metadata": {
            "tags": []
          },
          "execution_count": 18
        }
      ]
    },
    {
      "cell_type": "code",
      "metadata": {
        "id": "SCuIt99AZ317",
        "colab_type": "code",
        "colab": {
          "base_uri": "https://localhost:8080/",
          "height": 284
        },
        "outputId": "3170f6ea-9118-4919-fa52-95ece50cad92"
      },
      "source": [
        "Table().with_column('Resampled Means', resampled_means).hist()"
      ],
      "execution_count": 19,
      "outputs": [
        {
          "output_type": "display_data",
          "data": {
            "image/png": "[encoded data removed]",
            "text/plain": [
              "<Figure size 432x288 with 1 Axes>"
            ]
          },
          "metadata": {
            "tags": []
          }
        }
      ]
    },
    {
      "cell_type": "markdown",
      "metadata": {
        "id": "ITXAJtYpZ_nV",
        "colab_type": "text"
      },
      "source": [
        "\n",
        "Question 3\n",
        "Compute a 95 percent confidence interval for the average restaurant score using the array resampled_means."
      ]
    },
    {
      "cell_type": "code",
      "metadata": {
        "id": "wu--DihjZ7WF",
        "colab_type": "code",
        "colab": {
          "base_uri": "https://localhost:8080/",
          "height": 51
        },
        "outputId": "79cf0ec4-2370-471a-d43f-f73a1a744cef"
      },
      "source": [
        "lower_bound = percentile(2.5, resampled_means)\n",
        "upper_bound = percentile(97.5, resampled_means)\n",
        "print(\"95% confidence interval for the average restaurant score, computed by bootstrapping:\\n(\",lower_bound, \",\", upper_bound, \")\")"
      ],
      "execution_count": 20,
      "outputs": [
        {
          "output_type": "stream",
          "text": [
            "95% confidence interval for the average restaurant score, computed by bootstrapping:\n",
            "( 89.54 , 92.45 )\n"
          ],
          "name": "stdout"
        }
      ]
    },
    {
      "cell_type": "markdown",
      "metadata": {
        "id": "qwEgb16ZaKoF",
        "colab_type": "text"
      },
      "source": [
        "\n",
        "Question 4\n",
        "What distribution is the histogram between question 2 and 3 displaying (that is, what data are plotted), and why does it have that shape?\n",
        "\n",
        "**restaurant_sample is just a random sample which is just one of numerous possible random samples, and thus an estimate from that data is just one of numerous plausible estimates. To understand the variability of all those random sample means, we use bootstrap which generates new random samples by a method called resampling: the new samples are drawn at random from the original sample.And in question two all these resampled means are calculated and plotted in a histogram to give us an idea about the varablilty of sample means of the different samples drawn from a population, but using only a single sample. We are doing resampling 5000 times as the law of large numbers state that when an experiment is repeated large number of times the estimate will be close to the real value. And when the sample is large enough theis real value will be close to population parameter.\n",
        "\n",
        "The distribution of the means looks much closer to a normal distribution. This resemblance increases as the number of resamples increases. With 1,000 resamples, the distribution of the mean of the resamples is approximately normal.The central limit theorem is a fundamental theorem of probability and statistics. The theorem states that the distribution of the mean of a random sample from a population with finite variance is approximately normally distributed when the sample size is large, regardless of the shape of the population's distribution.\n",
        "\n",
        "Question 5\n",
        "Does the distribution of the sampled scores look normally distributed? State \"yes\" or \"no\" and describe in one sentence why you should expect this result.\n",
        "\n",
        "Hint: Remember that we are no longer talking about the resampled means!\n",
        "\n",
        "The distribution of the means looks much closer to a normal distribution. This resemblance increases as the number of resamples increases. With 1,000 resamples, the distribution of the mean of the resamples is approximately normal.The central limit theorem is a fundamental theorem of probability and statistics. The theorem states that the distribution of the mean of a random sample from a population with finite variance is approximately normally distributed when the sample size is large, regardless of the shape of the population's distribution.\n",
        "\n",
        "This is based on two facts:\n",
        "\n",
        "If a group of numbers has a normal distribution, around 95% of them lie within 2 standard deviations of their mean.\n",
        "The Central Limit Theorem tells us the quantitative relationship between the following:\n",
        "the standard deviation of an array of numbers.\n",
        "the standard deviation of an array of means of samples taken from those numbers.\n",
        "Also recall the standard deviation of sample means:\n",
        "$\\texttt{sd of sample means from many samples from a distribution}  =   $$\\frac{\\texttt{sd of the original distribution}}{\\sqrt{\\texttt{sample size}}}$$ $\n",
        "\n",
        "So bootsraping does this in reverse order. it takes a sample , try to imitate a population from that sample, verify if it has a normal distribution to make inference about the population parameter.\n",
        "\n",
        "Question 6\n",
        "Without referencing the array resampled_means or performing any new simulations, calculate an interval around the sample_mean that covers approximately 95% of the numbers in the resampled_means array. You may use the following values to compute your result, but you should not perform additional resampling - think about how you can use the CLT to accomplish this."
      ]
    },
    {
      "cell_type": "code",
      "metadata": {
        "id": "9dIqAiOaaEqs",
        "colab_type": "code",
        "colab": {
          "base_uri": "https://localhost:8080/",
          "height": 51
        },
        "outputId": "3daa95c9-f0a1-4776-f52c-b6735d4619cb"
      },
      "source": [
        "\n",
        "sample_mean = np.mean(restaurant_sample.column('Score'))\n",
        "sample_sd = np.std(restaurant_sample.column('Score'))\n",
        "sample_size = restaurant_sample.num_rows\n",
        "\n",
        "sd_of_means = np.std(pop_restaurants.column('Score'))/np.sqrt(sample_size)\n",
        "lower_bound_normal = sample_mean - 2*sd_of_means\n",
        "upper_bound_normal = sample_mean + 2*sd_of_means\n",
        "print(\"95% confidence interval for the average restaurant score, computed by a normal approximation:\\n(\",lower_bound_normal, \",\", upper_bound_normal, \")\")"
      ],
      "execution_count": 21,
      "outputs": [
        {
          "output_type": "stream",
          "text": [
            "95% confidence interval for the average restaurant score, computed by a normal approximation:\n",
            "( 89.45618327076103 , 92.52381672923896 )\n"
          ],
          "name": "stdout"
        }
      ]
    },
    {
      "cell_type": "markdown",
      "metadata": {
        "id": "GyRzfiOPaYLD",
        "colab_type": "text"
      },
      "source": [
        "\n",
        "2. Testing the Central Limit Theorem\n",
        "To recap the properties we just saw: The Central Limit Theorem tells us that the probability distribution of the sum or average of a large random sample drawn with replacement will be roughly normal, regardless of the distribution of the population from which the sample is drawn.\n",
        "\n",
        "That's a pretty big claim, but the theorem doesn't stop there. It further states that the standard deviation of this normal distribution is given by\n",
        "\n",
        "$$\\frac{\\texttt{sd of the original distribution}}{\\sqrt{\\texttt{sample size}}}$$\n",
        "In other words, suppose we start with any distribution that has standard deviation $x$, take a sample of size $n$ (where $n$ is a large number) from that distribution with replacement, and compute the mean of that sample. If we repeat this procedure many times, then those sample means will have a normal distribution with standard deviation $\\frac{x}{\\sqrt{n}}$.\n",
        "\n",
        "That's an even bigger claim than the first one! The proof of the theorem is beyond the scope of this class, but in this exercise, we will be exploring some data to see the CLT in action.\n",
        "\n",
        "Question 1. Define the function one_statistic_prop_heads which should return exactly one simulated statistic of the proportion of heads from $n$ coin flips."
      ]
    },
    {
      "cell_type": "code",
      "metadata": {
        "id": "U55EEsouaQeR",
        "colab_type": "code",
        "colab": {}
      },
      "source": [
        "\n",
        "coin_proportions = make_array(.5, .5) # our coin is fair\n",
        "\n",
        "def one_statistic_prop_heads(n):\n",
        "    simulated_proportions = sample_proportions(n, coin_proportions)\n",
        "    prop_heads = simulated_proportions.item(0)\n",
        "    return prop_heads"
      ],
      "execution_count": 0,
      "outputs": []
    },
    {
      "cell_type": "markdown",
      "metadata": {
        "id": "6Ae_SBEfagF7",
        "colab_type": "text"
      },
      "source": [
        "\n",
        "Question 2. The CLT only applies when sample sizes are \"sufficiently large.\" This isn't a very precise statement. Is 10 large? How about 50? The truth is that it depends both on the original population distribution and just how \"normal\" you want the result to look. Let's use a simulation to get a feel for how the distribution of the sample mean changes as sample size goes up.\n",
        "\n",
        "Consider a coin flip. If we say Heads is $1$ and Tails is $0$, then there's a 50% chance of getting a 1 and a 50% chance of getting a 0, which definitely doesn't match our definition of a normal distribution. The average of several coin tosses, where Heads is 1 and Tails is 0, is equal to the proportion of heads in those coin tosses (which is equivalent to the mean value of the coin tosses), so the CLT should hold true if we compute the sample proportion of heads many times.\n",
        "\n",
        "Write a function called sample_size_n that takes in a sample size $n$. It should return an array that contains 5000 sample proportions of heads, each from $n$ coin flips."
      ]
    },
    {
      "cell_type": "code",
      "metadata": {
        "id": "R1VOXz9Oacqg",
        "colab_type": "code",
        "colab": {
          "base_uri": "https://localhost:8080/",
          "height": 34
        },
        "outputId": "7d966823-825f-4cf5-8cf2-e272804024a1"
      },
      "source": [
        "\n",
        "def sample_size_n(n):\n",
        "    coin_proportions = make_array(.5, .5) # our coin is fair\n",
        "    heads_proportions = make_array()\n",
        "    for i in np.arange(5000):\n",
        "        prop_heads = sample_proportions(n, coin_proportions)\n",
        "        heads_proportions = np.append(heads_proportions,prop_heads)\n",
        "    return heads_proportions\n",
        "\n",
        "sample_size_n(50)"
      ],
      "execution_count": 23,
      "outputs": [
        {
          "output_type": "execute_result",
          "data": {
            "text/plain": [
              "array([0.5 , 0.5 , 0.48, ..., 0.52, 0.54, 0.46])"
            ]
          },
          "metadata": {
            "tags": []
          },
          "execution_count": 23
        }
      ]
    },
    {
      "cell_type": "code",
      "metadata": {
        "id": "bhDiQmGNakou",
        "colab_type": "code",
        "colab": {
          "base_uri": "https://localhost:8080/",
          "height": 34
        },
        "outputId": "1332b37f-1554-4b4b-8bed-49613dbc5d0e"
      },
      "source": [
        "#Load dataset for flights data\n",
        "dirpath1=\"https://raw.githubusercontent.com/data-8/materials-su19/master/materials/su19/hw/hw10/\"\n",
        "united = Table.read_table(dirpath1+'united_summer2015.csv')\n",
        "united_std = np.std(united.column('Delay'))\n",
        "united_std"
      ],
      "execution_count": 24,
      "outputs": [
        {
          "output_type": "execute_result",
          "data": {
            "text/plain": [
              "39.480199851609314"
            ]
          },
          "metadata": {
            "tags": []
          },
          "execution_count": 24
        }
      ]
    },
    {
      "cell_type": "markdown",
      "metadata": {
        "id": "ofcCwMKYaqpe",
        "colab_type": "text"
      },
      "source": [
        "Question 2.3: Write a function called empirical_sample_mean_sd that takes a sample size n as its argument. The function should simulate 500 samples with replacement of size n from the flight delays dataset, and it should return the standard deviation of the means of those 500 samples.\n",
        "\n",
        "Hint: This function will be similar to the sample_size_n function you wrote earlier."
      ]
    },
    {
      "cell_type": "code",
      "metadata": {
        "id": "Zuc_66GFaniS",
        "colab_type": "code",
        "colab": {
          "base_uri": "https://localhost:8080/",
          "height": 34
        },
        "outputId": "5733ea4f-0654-4bb5-8837-0c56470166ae"
      },
      "source": [
        "def empirical_sample_mean_sd(n):\n",
        "    sample_means = make_array()\n",
        "    for i in np.arange(500):\n",
        "        sample = united.sample(n,with_replacement=True).column('Delay')\n",
        "        sample_mean = np.mean(sample)\n",
        "        sample_means = np.append(sample_means,sample_mean)\n",
        "    return np.std(sample_means)\n",
        "\n",
        "empirical_sample_mean_sd(10)"
      ],
      "execution_count": 25,
      "outputs": [
        {
          "output_type": "execute_result",
          "data": {
            "text/plain": [
              "12.482862330411242"
            ]
          },
          "metadata": {
            "tags": []
          },
          "execution_count": 25
        }
      ]
    },
    {
      "cell_type": "markdown",
      "metadata": {
        "id": "7J-UcYOlax-G",
        "colab_type": "text"
      },
      "source": [
        "\n",
        "Question 2.4: Now, write a function called predict_sample_mean_sd to find the predicted value of the standard deviation of means according to the relationship between the standard deviation of the sample mean and sample size that is discussed here in the textbook. It takes a sample size n (a number) as its argument. It returns the predicted value of the standard deviation of the mean delay time for samples of size n from the flight delays (represented in the table united)."
      ]
    },
    {
      "cell_type": "code",
      "metadata": {
        "id": "W06_WZUxau9d",
        "colab_type": "code",
        "colab": {
          "base_uri": "https://localhost:8080/",
          "height": 34
        },
        "outputId": "4894e014-2b1a-4233-8428-ad09176bdb97"
      },
      "source": [
        "def predict_sample_mean_sd(n):\n",
        "    return united_std/np.sqrt(n)\n",
        "\n",
        "predict_sample_mean_sd(10)"
      ],
      "execution_count": 26,
      "outputs": [
        {
          "output_type": "execute_result",
          "data": {
            "text/plain": [
              "12.484735400972708"
            ]
          },
          "metadata": {
            "tags": []
          },
          "execution_count": 26
        }
      ]
    },
    {
      "cell_type": "code",
      "metadata": {
        "id": "8GIR7uJSa1sT",
        "colab_type": "code",
        "colab": {}
      },
      "source": [
        ""
      ],
      "execution_count": 0,
      "outputs": []
    }
  ]
}