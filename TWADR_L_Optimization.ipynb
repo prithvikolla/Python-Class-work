{
  "nbformat": 4,
  "nbformat_minor": 0,
  "metadata": {
    "colab": {
      "name": "TWADR-L Optimization.ipynb",
      "provenance": [],
      "collapsed_sections": [],
      "include_colab_link": true
    },
    "kernelspec": {
      "name": "python3",
      "display_name": "Python 3"
    }
  },
  "cells": [
    {
      "cell_type": "markdown",
      "metadata": {
        "id": "view-in-github",
        "colab_type": "text"
      },
      "source": [
        "<a href=\"https://colab.research.google.com/github/prithvikolla/test1/blob/master/TWADR_L_Optimization.ipynb\" target=\"_parent\"><img src=\"https://colab.research.google.com/assets/colab-badge.svg\" alt=\"Open In Colab\"/></a>"
      ]
    },
    {
      "cell_type": "code",
      "metadata": {
        "id": "_-JCNXAxdIdV",
        "colab_type": "code",
        "colab": {}
      },
      "source": [
        "import pandas as pd\n",
        "import numpy as np\n",
        "df1 = pd.read_csv(r\"/content/TwADR-L-train-all.csv\")\n",
        "df1 = df1.drop(['NAME'], axis=1)\n",
        "df2 = pd.DataFrame()\n",
        "for i in df1['ID'].unique():\n",
        " df2 = df2.append({'ID':i},ignore_index= True)\n",
        "df2['Map'] = np.arange(len(df2))\n",
        "df3 = pd.merge(df1,df2, on = 'ID')\n",
        "df4 = df3.to_csv(\"TWADR-L(Simplified).csv\",index= False)\n"
      ],
      "execution_count": 0,
      "outputs": []
    },
    {
      "cell_type": "code",
      "metadata": {
        "id": "QG6cby9ZSvFq",
        "colab_type": "code",
        "colab": {}
      },
      "source": [
        "TWADR = [\"TwADR-L.fold-0.validation.csv\",\"TwADR-L.fold-1.validation.csv\",\"TwADR-L.fold-2.validation.csv\",\"TwADR-L.fold-3.validation.csv\",\"TwADR-L.fold-4.validation.csv\",\"TwADR-L.fold-5.validation.csv\",\"TwADR-L.fold-6.validation.csv\",\"TwADR-L.fold-7.validation.csv\",\"TwADR-L.fold-8.validation.csv\",\"TwADR-L.fold-9.validation.csv\"]\n",
        "for i in TWADR:\n",
        " df14 = pd.read_csv(i, names=['ID','NAME'])\n",
        " df15 = pd.merge(df2,df14,on='ID')\n",
        " df15['ID'] = df15['Map']\n",
        " df15 = df15.drop(['Map'],axis = 1)\n",
        " df16 = df15.to_csv(i,index = False)"
      ],
      "execution_count": 0,
      "outputs": []
    },
    {
      "cell_type": "code",
      "metadata": {
        "id": "lfsTZqSWT7PV",
        "colab_type": "code",
        "colab": {}
      },
      "source": [
        ""
      ],
      "execution_count": 0,
      "outputs": []
    },
    {
      "cell_type": "code",
      "metadata": {
        "id": "uwP2zPl9UOVR",
        "colab_type": "code",
        "colab": {}
      },
      "source": [
        ""
      ],
      "execution_count": 0,
      "outputs": []
    }
  ]
}